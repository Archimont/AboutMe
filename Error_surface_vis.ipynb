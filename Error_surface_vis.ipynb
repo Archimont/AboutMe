{
 "cells": [
  {
   "cell_type": "code",
   "execution_count": 217,
   "id": "e616367e",
   "metadata": {},
   "outputs": [],
   "source": [
    "import tensorflow as tf\n",
    "import numpy as np\n",
    "import random\n",
    "import matplotlib.pyplot as plt\n",
    "from tensorflow.keras.initializers import GlorotUniform\n",
    "import plotly.graph_objects as go\n",
    "import numpy as np\n",
    "from plotly.subplots import make_subplots\n",
    "import cv2\n",
    "\n",
    "\n",
    "INIT = GlorotUniform()\n",
    "IMG_WIDTH = 6\n",
    "IMG_HEIGHT = 6"
   ]
  },
  {
   "cell_type": "code",
   "execution_count": 218,
   "id": "7e05de9b",
   "metadata": {},
   "outputs": [],
   "source": [
    "x_train = list()\n",
    "x_1 = [[1, 0, 0, 0, 0, 1],\n",
    "       [0, 1, 0, 0, 1, 0],\n",
    "       [0, 0, 1, 1, 0, 0],\n",
    "       [0, 0, 1, 1, 0, 0],\n",
    "       [0, 1, 0, 0, 1, 0],\n",
    "       [1, 0, 0, 0, 0, 1]]\n",
    "\n",
    "x_2 = [[0, 0, 1, 1, 0, 0],\n",
    "       [0, 1, 0, 0, 1, 0],\n",
    "       [1, 0, 0, 0, 0, 1],\n",
    "       [1, 0, 0, 0, 0, 1],\n",
    "       [0, 1, 0, 0, 1, 0],\n",
    "       [0, 0, 1, 1, 0, 0]]\n",
    "\n",
    "x_train.append(x_1)\n",
    "x_train.append(x_2)\n",
    "x_train = np.array(x_train)\n",
    "\n",
    "y_train = list()\n",
    "y_train.append([0,1])\n",
    "y_train.append([1,0])\n",
    "y_train = np.array(y_train)"
   ]
  },
  {
   "cell_type": "code",
   "execution_count": 219,
   "id": "5ec70a48",
   "metadata": {},
   "outputs": [
    {
     "name": "stderr",
     "output_type": "stream",
     "text": [
      "C:\\Users\\Tomas\\AppData\\Local\\Temp/ipykernel_17252/3104741797.py:3: DeprecationWarning:\n",
      "\n",
      "`np.object` is a deprecated alias for the builtin `object`. To silence this warning, use `object` by itself. Doing this will not modify any behavior and is safe. \n",
      "Deprecated in NumPy 1.20; for more details and guidance: https://numpy.org/devdocs/release/1.20.0-notes.html#deprecations\n",
      "\n"
     ]
    },
    {
     "data": {
      "text/plain": [
       "<matplotlib.image.AxesImage at 0x2149c0c2070>"
      ]
     },
     "execution_count": 219,
     "metadata": {},
     "output_type": "execute_result"
    },
    {
     "data": {
      "image/png": "[encoded data removed]",
      "text/plain": [
       "<Figure size 1080x720 with 2 Axes>"
      ]
     },
     "metadata": {
      "needs_background": "light"
     },
     "output_type": "display_data"
    }
   ],
   "source": [
    "#with 7 layers\n",
    "plt.figure(figsize=(15, 10))\n",
    "axes = np.zeros((1,2),dtype=np.object)\n",
    "axes[0,0] = plt.subplot(1, 2, 1)\n",
    "axes[0,1] = plt.subplot(1, 2, 2)\n",
    "\n",
    "axes[0,0].imshow(x_1, cmap = 'gray')\n",
    "axes[0,1].imshow(x_2, cmap = 'gray')"
   ]
  },
  {
   "cell_type": "code",
   "execution_count": 220,
   "id": "c0e2f44b",
   "metadata": {},
   "outputs": [],
   "source": [
    "def create_model():\n",
    "    model=tf.keras.Sequential([\n",
    "      tf.keras.layers.Conv2D(1, kernel_size = (3,3), activation='linear', input_shape=(IMG_WIDTH, IMG_HEIGHT,1),kernel_initializer=INIT),\n",
    "      tf.keras.layers.MaxPooling2D(),\n",
    "      tf.keras.layers.Flatten(),\n",
    "      tf.keras.layers.Dense(1, activation='linear'),\n",
    "      tf.keras.layers.Dense(2,activation='softmax')\n",
    "    ]) # Mozete pridavat layers ako chcete\n",
    "    return model"
   ]
  },
  {
   "cell_type": "code",
   "execution_count": 221,
   "id": "2e0951b7",
   "metadata": {},
   "outputs": [],
   "source": [
    "def weights_from_dense(w):\n",
    "    w_to_return = list()\n",
    "    for x in w[1]:\n",
    "        w_to_return.append(x)\n",
    "    for x in w[0]:\n",
    "        for y in x:\n",
    "            w_to_return.append(y)\n",
    "    return w_to_return,w[1].shape[0]"
   ]
  },
  {
   "cell_type": "code",
   "execution_count": 222,
   "id": "aa57acd6",
   "metadata": {},
   "outputs": [],
   "source": [
    "def weights_from_conv(w):\n",
    "    w_to_return = list()\n",
    "    for x in w[1]:\n",
    "        w_to_return.append(x)\n",
    "    to_im_real = np.moveaxis(w[0], 3, 0)\n",
    "    to_im_real = np.moveaxis(to_im_real[0], 2, 0)\n",
    "    for x in to_im_real[0]:\n",
    "        for y in x:\n",
    "            w_to_return.append(y)\n",
    "    return w_to_return,w[0].shape,w[1].shape[0]"
   ]
  },
  {
   "cell_type": "code",
   "execution_count": 223,
   "id": "02b71310",
   "metadata": {},
   "outputs": [],
   "source": [
    "def return_kernel_im(w):\n",
    "    to_im_real = np.moveaxis(w[0], 3, 0)\n",
    "    to_im_real = np.moveaxis(to_im_real[0], 2, 0)\n",
    "    return to_im_real[0] + w[1]"
   ]
  },
  {
   "cell_type": "code",
   "execution_count": 224,
   "id": "5cc28ae9",
   "metadata": {},
   "outputs": [],
   "source": [
    "def extract_path_of_learning(model):\n",
    "    weights_ep = list()\n",
    "    for i in range(20):\n",
    "        weights = list()\n",
    "        weights += weights_from_conv(model.layers[0].get_weights())[0]\n",
    "        weights += weights_from_dense(model.layers[3].get_weights())[0]\n",
    "        weights += weights_from_dense(model.layers[4].get_weights())[0]\n",
    "        weights = np.array(weights)\n",
    "        weights_ep.append(weights)\n",
    "        model.fit(x_train,y_train,batch_size = 2, epochs=10,verbose = 0)\n",
    "\n",
    "        \n",
    "    return np.array(weights_ep)"
   ]
  },
  {
   "cell_type": "code",
   "execution_count": 225,
   "id": "09729a20",
   "metadata": {},
   "outputs": [],
   "source": [
    "new_model = create_model()\n",
    "new_model.compile(loss='binary_crossentropy', metrics=['accuracy'])\n",
    "Study_path = extract_path_of_learning(new_model)"
   ]
  },
  {
   "cell_type": "code",
   "execution_count": 226,
   "id": "46f87c97",
   "metadata": {},
   "outputs": [],
   "source": [
    "def create_encoder():\n",
    "    encoder = tf.keras.Sequential([\n",
    "      tf.keras.layers.Dense(10,activation='tanh',input_shape=(19,)),\n",
    "      tf.keras.layers.Dense(5,activation='tanh'),\n",
    "      tf.keras.layers.Dense(2, activation='tanh'),\n",
    "      tf.keras.layers.Dense(5,activation='tanh'),\n",
    "      tf.keras.layers.Dense(10,activation='tanh'),\n",
    "      tf.keras.layers.Dense(19,activation='tanh'),\n",
    "    ]) # Mozete pridavat layers ako chcete\n",
    "    return encoder"
   ]
  },
  {
   "cell_type": "code",
   "execution_count": 227,
   "id": "a7ddf45f",
   "metadata": {},
   "outputs": [],
   "source": [
    "def create_dataset_for_encoder():\n",
    "    to_encode = list()\n",
    "    numbers_of_epochs_per_training = 20\n",
    "    n_models = 100\n",
    "    \n",
    "    for i in range(n_models):\n",
    "        data_model = create_model()\n",
    "        data_model.compile(loss='binary_crossentropy', metrics=['accuracy'])\n",
    "        for j in range(numbers_of_epochs_per_training):\n",
    "            weights = list()\n",
    "            weights += weights_from_conv(data_model.layers[0].get_weights())[0]\n",
    "            weights += weights_from_dense(data_model.layers[3].get_weights())[0]\n",
    "            weights += weights_from_dense(data_model.layers[4].get_weights())[0]\n",
    "            weights = np.array(weights)\n",
    "            to_encode.append(weights)\n",
    "            data_model.fit(x_train,y_train,batch_size = 2, epochs = 10,verbose = 0)\n",
    "        print(\"{0} from {1}\".format(i+1,n_models))\n",
    "\n",
    "    return np.array(to_encode)"
   ]
  },
  {
   "cell_type": "code",
   "execution_count": 228,
   "id": "3d6dcdef",
   "metadata": {},
   "outputs": [
    {
     "name": "stdout",
     "output_type": "stream",
     "text": [
      "1 from 100\n",
      "2 from 100\n",
      "3 from 100\n",
      "4 from 100\n",
      "5 from 100\n",
      "6 from 100\n",
      "7 from 100\n",
      "8 from 100\n",
      "9 from 100\n",
      "10 from 100\n",
      "11 from 100\n",
      "12 from 100\n",
      "13 from 100\n",
      "14 from 100\n",
      "15 from 100\n",
      "16 from 100\n",
      "17 from 100\n",
      "18 from 100\n",
      "19 from 100\n",
      "20 from 100\n",
      "21 from 100\n",
      "22 from 100\n",
      "23 from 100\n",
      "24 from 100\n",
      "25 from 100\n",
      "26 from 100\n",
      "27 from 100\n",
      "28 from 100\n",
      "29 from 100\n",
      "30 from 100\n",
      "31 from 100\n",
      "32 from 100\n",
      "33 from 100\n",
      "34 from 100\n",
      "35 from 100\n",
      "36 from 100\n",
      "37 from 100\n",
      "38 from 100\n",
      "39 from 100\n",
      "40 from 100\n",
      "41 from 100\n",
      "42 from 100\n",
      "43 from 100\n",
      "44 from 100\n",
      "45 from 100\n",
      "46 from 100\n",
      "47 from 100\n",
      "48 from 100\n",
      "49 from 100\n",
      "50 from 100\n",
      "51 from 100\n",
      "52 from 100\n",
      "53 from 100\n",
      "54 from 100\n",
      "55 from 100\n",
      "56 from 100\n",
      "57 from 100\n",
      "58 from 100\n",
      "59 from 100\n",
      "60 from 100\n",
      "61 from 100\n",
      "62 from 100\n",
      "63 from 100\n",
      "64 from 100\n",
      "65 from 100\n",
      "66 from 100\n",
      "67 from 100\n",
      "68 from 100\n",
      "69 from 100\n",
      "70 from 100\n",
      "71 from 100\n",
      "72 from 100\n",
      "73 from 100\n",
      "74 from 100\n",
      "75 from 100\n",
      "76 from 100\n",
      "77 from 100\n",
      "78 from 100\n",
      "79 from 100\n",
      "80 from 100\n",
      "81 from 100\n",
      "82 from 100\n",
      "83 from 100\n",
      "84 from 100\n",
      "85 from 100\n",
      "86 from 100\n",
      "87 from 100\n",
      "88 from 100\n",
      "89 from 100\n",
      "90 from 100\n",
      "91 from 100\n",
      "92 from 100\n",
      "93 from 100\n",
      "94 from 100\n",
      "95 from 100\n",
      "96 from 100\n",
      "97 from 100\n",
      "98 from 100\n",
      "99 from 100\n",
      "100 from 100\n"
     ]
    }
   ],
   "source": [
    "Encoder_data = create_dataset_for_encoder()"
   ]
  },
  {
   "cell_type": "code",
   "execution_count": 229,
   "id": "87256c0c",
   "metadata": {},
   "outputs": [
    {
     "data": {
      "text/plain": [
       "<keras.callbacks.History at 0x2149bf141f0>"
      ]
     },
     "execution_count": 229,
     "metadata": {},
     "output_type": "execute_result"
    }
   ],
   "source": [
    "encoder = create_encoder()\n",
    "encoder.compile(optimizer = 'adam',loss='mse', metrics=['mse','accuracy'])\n",
    "encoder.fit(Encoder_data,Encoder_data,batch_size = 10, epochs=2000,verbose = 0)\n",
    "encoder.fit(Study_path,Study_path,batch_size = 10, epochs=200,verbose = 0)"
   ]
  },
  {
   "cell_type": "code",
   "execution_count": 230,
   "id": "aa41ba8a",
   "metadata": {},
   "outputs": [
    {
     "name": "stdout",
     "output_type": "stream",
     "text": [
      "200/200 [==============================] - 1s 2ms/step - loss: 0.1822 - mse: 0.1822 - accuracy: 0.4095\n"
     ]
    },
    {
     "data": {
      "text/plain": [
       "[0.18219126760959625, 0.18219126760959625, 0.40950000286102295]"
      ]
     },
     "execution_count": 230,
     "metadata": {},
     "output_type": "execute_result"
    }
   ],
   "source": [
    "encoder.evaluate(Encoder_data, Encoder_data, batch_size=10)"
   ]
  },
  {
   "cell_type": "code",
   "execution_count": 231,
   "id": "35e9e8c2",
   "metadata": {},
   "outputs": [],
   "source": [
    "Weights_to_point_model = tf.keras.Sequential([\n",
    "    tf.keras.layers.Input(shape=(19,)),\n",
    "    encoder.get_layer(index = 0),\n",
    "    encoder.get_layer(index = 1),\n",
    "    encoder.get_layer(index = 2),\n",
    "])"
   ]
  },
  {
   "cell_type": "code",
   "execution_count": 232,
   "id": "7da486d2",
   "metadata": {},
   "outputs": [],
   "source": [
    "Point_to_weights_model = tf.keras.Sequential([\n",
    "    tf.keras.layers.Input(shape=(2,)),\n",
    "    encoder.get_layer(index = 3),\n",
    "    encoder.get_layer(index = 4),\n",
    "    encoder.get_layer(index = 5),\n",
    "]) # Mozete pridavat layers ako chcete"
   ]
  },
  {
   "cell_type": "code",
   "execution_count": 233,
   "id": "6127dba6",
   "metadata": {},
   "outputs": [],
   "source": [
    "zero_point = Weights_to_point_model.predict(Study_path[-1:])[0]"
   ]
  },
  {
   "cell_type": "code",
   "execution_count": 234,
   "id": "d5bebf42",
   "metadata": {},
   "outputs": [],
   "source": [
    "def vector_weights_on_conv(w,w_shape):\n",
    "    bias = np.array([w[0]])\n",
    "    kernel = np.zeros(w_shape)\n",
    "    for i in range(w_shape[0]):\n",
    "        for j in range(w_shape[1]):\n",
    "            kernel[i][j][0][0] = w[1+i*3+j]\n",
    "    return [kernel,bias]"
   ]
  },
  {
   "cell_type": "code",
   "execution_count": 235,
   "id": "58559b48",
   "metadata": {},
   "outputs": [],
   "source": [
    "def vector_weights_on_dense(w,num_biases):\n",
    "    bias = list()\n",
    "    for i in range(num_biases):\n",
    "        bias.append(w[i])\n",
    "    bias = np.array(bias)\n",
    "    kernel = list()\n",
    "    for i in range(num_biases,len(w),num_biases):\n",
    "        kernel.append([w[i+j] for j in range(num_biases)])\n",
    "    kernel = np.array(kernel)\n",
    "    return [kernel,bias]"
   ]
  },
  {
   "cell_type": "code",
   "execution_count": 236,
   "id": "5e6618e5",
   "metadata": {},
   "outputs": [],
   "source": [
    "def extract_feature_map(model):\n",
    "    \n",
    "    feature_extractor1 = tf.keras.models.Model(\n",
    "    inputs=model.inputs,\n",
    "    outputs=model.get_layer(index = 0).output,\n",
    "    )\n",
    "    \n",
    "    feature1 = feature_extractor1(x_train)\n",
    "\n",
    "    feature_extractor2 = tf.keras.models.Model(\n",
    "    inputs=model.get_layer(index = 0).output,\n",
    "    outputs=model.get_layer(index = 1).output,\n",
    "    )\n",
    "\n",
    "    feature2 = feature_extractor2(feature1)\n",
    "\n",
    "\n",
    "    feature_extractor3 = tf.keras.models.Model(\n",
    "    inputs=model.get_layer(index = 1).output,\n",
    "    outputs=model.get_layer(index = 2).output,\n",
    "    )\n",
    "\n",
    "    feature3 = feature_extractor3(feature2)\n",
    "    feature3 = np.array(feature3)\n",
    "\n",
    "    return [np.moveaxis(feature1, 3, 1),np.moveaxis(feature2, 3, 1),feature3]"
   ]
  },
  {
   "cell_type": "code",
   "execution_count": 237,
   "id": "cdc12152",
   "metadata": {},
   "outputs": [],
   "source": [
    "def create_surface(model,zero_point):\n",
    "    \n",
    "    step = 0.5\n",
    "    offset = 5\n",
    "    \n",
    "    \n",
    "    x_plot = np.arange(zero_point[0]-offset, zero_point[0]+offset, step)\n",
    "    y_plot = np.arange(zero_point[1]-offset, zero_point[1]+offset, step)\n",
    "    X_plot, Y_plot = np.meshgrid(x_plot, y_plot)\n",
    "    Z_plot = np.zeros(X_plot.shape)\n",
    "    Kernel_plot = np.zeros((X_plot.shape[0],X_plot.shape[1],3,3))\n",
    "    Feature_plot1 = np.zeros((X_plot.shape[0],X_plot.shape[1],2,1,4,4))\n",
    "    Feature_plot2 = np.zeros((X_plot.shape[0],X_plot.shape[1],2,1,2,2))\n",
    "    Feature_plot3 =np.zeros((X_plot.shape[0],X_plot.shape[1],2,4))\n",
    "    \n",
    "    len_x = len(X_plot)\n",
    "    len_y = len(Y_plot)\n",
    "\n",
    "    surface = np.array([X_plot.flatten(),Y_plot.flatten()])\n",
    "    surface = np.moveaxis(surface, 0,1)\n",
    "\n",
    "    weights = Point_to_weights_model.predict(surface)\n",
    "    predictions = list()\n",
    "    kernels_from_surface = list()\n",
    "    features_surface = list()\n",
    "    \n",
    "    for weg in weights:\n",
    "        v1 = vector_weights_on_conv(weg[:10],(3,3,1,1))\n",
    "        model.layers[0].set_weights(v1)\n",
    "        v2 = vector_weights_on_dense(weg[10:15],1)\n",
    "        model.layers[3].set_weights(v2)\n",
    "        v3 = vector_weights_on_dense(weg[15:],2)\n",
    "        model.layers[4].set_weights(v3)\n",
    "        predictions.append(model.evaluate(x_train, y_train, batch_size=2,verbose = 0)[0])\n",
    "        kernels_from_surface.append(return_kernel_im(model.layers[0].get_weights()))\n",
    "        features_surface.append(extract_feature_map(model))\n",
    "        \n",
    "    for index1 in range(len_x):\n",
    "        for index2 in range(len_y):\n",
    "            Z_plot[index1,index2] = predictions[index1*len_x+index2]\n",
    "            Kernel_plot[index1,index2] = kernels_from_surface[index1*len_x+index2]\n",
    "            Feature_plot1[index1,index2] = features_surface[index1*len_x+index2][0]\n",
    "            Feature_plot2[index1,index2] = features_surface[index1*len_x+index2][1]\n",
    "            Feature_plot3[index1,index2] = features_surface[index1*len_x+index2][2]\n",
    "            \n",
    "    return X_plot,Y_plot,Z_plot,Kernel_plot,Feature_plot1,Feature_plot2,Feature_plot3"
   ]
  },
  {
   "cell_type": "code",
   "execution_count": 238,
   "id": "77576d37",
   "metadata": {},
   "outputs": [],
   "source": [
    "X_plot,Y_plot,Z_plot,Kernel_plot,Feature_plot1,Feature_plot2,Feature_plot3 = create_surface(new_model,zero_point)"
   ]
  },
  {
   "cell_type": "code",
   "execution_count": 239,
   "id": "8909ddcd",
   "metadata": {},
   "outputs": [],
   "source": [
    "def point_to_path(x,y,Point_to_weights_model):\n",
    "    #create model from point\n",
    "    model = create_model()\n",
    "    model.compile(loss='binary_crossentropy', metrics=['accuracy'])\n",
    "\n",
    "    weights = Point_to_weights_model.predict([(x,y)])[0]\n",
    "    v1 = vector_weights_on_conv(weights[:10],(3,3,1,1))\n",
    "    model.layers[0].set_weights(v1)\n",
    "    v2 = vector_weights_on_dense(weights[10:15],1)\n",
    "    model.layers[3].set_weights(v2)\n",
    "    v3 = vector_weights_on_dense(weights[15:],2)\n",
    "    model.layers[4].set_weights(v3)\n",
    "    #train_model\n",
    "    path = extract_path_of_learning(model)\n",
    "    \n",
    "    return path,model"
   ]
  },
  {
   "cell_type": "code",
   "execution_count": 240,
   "id": "61ef19fa",
   "metadata": {},
   "outputs": [],
   "source": [
    "def Path_to_trace(path,model,Weights_to_point_model):\n",
    "    \n",
    "    z_idx = list()\n",
    "    x_idx = list()\n",
    "    y_idx = list()\n",
    "    \n",
    "    for i,weg in enumerate(path):\n",
    "        (x,y) = Weights_to_point_model.predict(path[i:i+1])[0]\n",
    "        x_idx.append(x)\n",
    "        y_idx.append(y)\n",
    "\n",
    "        v1 = vector_weights_on_conv(weg[:10],(3,3,1,1))\n",
    "        model.layers[0].set_weights(v1)\n",
    "        v2 = vector_weights_on_dense(weg[10:15],1)\n",
    "        model.layers[3].set_weights(v2)\n",
    "        v3 = vector_weights_on_dense(weg[15:],2)\n",
    "        model.layers[4].set_weights(v3)\n",
    "        z_idx.append(model.evaluate(x_train, y_train, batch_size=2,verbose = 0)[0])\n",
    "    \n",
    "    trace1 = go.Scatter3d(\n",
    "    x=x_idx,  # <-- Put your data instead\n",
    "    y=y_idx,  # <-- Put your data instead\n",
    "    z=z_idx,  # <-- Put your data instead\n",
    "    mode='markers',\n",
    "    marker={\n",
    "        'size': 6,\n",
    "        'opacity': 0.8,\n",
    "        'color' : 'red',\n",
    "        'colorscale' : 'Viridis',\n",
    "        }\n",
    "    )\n",
    "\n",
    "    trace2 = go.Scatter3d(\n",
    "        x=x_idx,  # <-- Put your data instead\n",
    "        y=y_idx,  # <-- Put your data instead\n",
    "        z=z_idx,  # <-- Put your data instead\n",
    "        mode='lines',\n",
    "    )\n",
    "    return trace1,trace2"
   ]
  },
  {
   "cell_type": "code",
   "execution_count": 241,
   "id": "550223a9",
   "metadata": {},
   "outputs": [],
   "source": [
    "def create_img(img):\n",
    "    im = img - np.min(img)\n",
    "    im = im / np.max(im)\n",
    "    im = im * 255\n",
    "    im = np.array([im,im,im])\n",
    "    im = np.swapaxes(im,0,2)\n",
    "    return im"
   ]
  },
  {
   "cell_type": "code",
   "execution_count": 242,
   "id": "c94ffbbc",
   "metadata": {},
   "outputs": [],
   "source": [
    "def create_img2(img):\n",
    "    im = img - np.min(img)\n",
    "    im = im / np.max(im)\n",
    "    im = im * 255\n",
    "    im = np.array([[im],[im],[im]])\n",
    "    im = np.swapaxes(im,0,2)\n",
    "    im = np.swapaxes(im,0,1)\n",
    "    return im"
   ]
  },
  {
   "cell_type": "code",
   "execution_count": 243,
   "id": "6be7b0a3",
   "metadata": {},
   "outputs": [
    {
     "name": "stdout",
     "output_type": "stream",
     "text": [
      "[[[  0.           0.           0.        ]\n",
      "  [150.24960494 150.24960494 150.24960494]\n",
      "  [ 37.63671578  37.63671578  37.63671578]\n",
      "  [255.         255.         255.        ]]]\n"
     ]
    }
   ],
   "source": [
    "print(create_img2(Feature_plot3[0][0][0]))"
   ]
  },
  {
   "cell_type": "code",
   "execution_count": 244,
   "id": "14cb6700",
   "metadata": {
    "scrolled": false
   },
   "outputs": [
    {
     "data": {
      "application/vnd.jupyter.widget-view+json": {
       "model_id": "3927ef80c77c46fa86e735bb2af430b3",
       "version_major": 2,
       "version_minor": 0
      },
      "text/plain": [
       "FigureWidget({\n",
       "    'data': [{'type': 'surface',\n",
       "              'uid': '00ac657c-4d9e-44ca-b278-112c703cb960',\n",
       " …"
      ]
     },
     "metadata": {},
     "output_type": "display_data"
    }
   ],
   "source": [
    "#  Graf pre vizualizáciu aktivácií\n",
    "\n",
    "gray_three_channel = np.zeros((2,2,3))\n",
    "x,y = (0,0)\n",
    "fig = make_subplots(rows=1, cols=2, column_widths=[0.7, 0.3])\n",
    "\n",
    "fig = make_subplots(\n",
    "    rows=5, cols=3,\n",
    "#     rows=1, cols=2,\n",
    "    column_widths=[0.6, 0.2, 0.2],\n",
    "    row_heights=[0.2,0.2,0.2,0.2,0.2],\n",
    "    specs=[[            {\"type\": \"surface\", \"rowspan\": 5},{\"type\": \"image\"},{\"type\": \"image\"}],\n",
    "           [            None                             ,{\"type\": \"image\"},None],\n",
    "           [            None                             ,{\"type\": \"image\"},{\"type\": \"image\"}],\n",
    "           [            None                             ,{\"type\": \"image\"},{\"type\": \"image\"}],\n",
    "           [            None                             ,{\"type\": \"image\"},{\"type\": \"image\"}]])\n",
    "\n",
    "#     specs=[[{\"type\": \"surface\"}, {\"type\": \"image\"}]])\n",
    "\n",
    "trace0 = go.Surface(z=Z_plot, x=X_plot, y=Y_plot)\n",
    "trace1,trace2 = Path_to_trace(Study_path,new_model,Weights_to_point_model)\n",
    "\n",
    "    \n",
    "# We use go.Image because subplots require traces, whereas px functions return a figure\n",
    "go.Surface(z=Z_plot, x=X_plot, y=Y_plot)\n",
    "# fig.update_traces(contours_z=dict(show=True, usecolormap=True,\n",
    "#                                   highlightcolor=\"limegreen\", project_z=True))\n",
    "\n",
    "trace3 = go.Image(z=create_img(x_1),colormodel='rgb',name=\"input_image1\")\n",
    "trace4 = go.Image(z=create_img(x_2),colormodel='rgb',name=\"input_image2\")\n",
    "trace5 = go.Image(z=gray_three_channel,colormodel='rgb',name=\"kernel\")\n",
    "trace6 = go.Image(z=gray_three_channel,colormodel='rgb',name=\"feature_map1\")\n",
    "trace7 = go.Image(z=gray_three_channel,colormodel='rgb',name=\"feature_map2\")\n",
    "trace8 = go.Image(z=gray_three_channel,colormodel='rgb',name=\"maxpooling1\")\n",
    "trace9 = go.Image(z=gray_three_channel,colormodel='rgb',name=\"maxpooling2\")\n",
    "trace10 = go.Image(z=gray_three_channel,colormodel='rgb',name=\"vector1\")\n",
    "trace11 = go.Image(z=gray_three_channel,colormodel='rgb',name=\"vector2\")\n",
    "\n",
    "\n",
    "\n",
    "fig.add_trace(trace0)\n",
    "fig.add_trace(trace1)\n",
    "fig.add_trace(trace2)\n",
    "fig.add_trace(trace3, 1, 2)\n",
    "fig.add_trace(trace4, 1, 3)\n",
    "fig.add_trace(trace5, 2, 2)\n",
    "fig.add_trace(trace6, 3, 2)\n",
    "fig.add_trace(trace7, 3, 3)\n",
    "fig.add_trace(trace8, 4, 2)\n",
    "fig.add_trace(trace9, 4, 3)\n",
    "fig.add_trace(trace10, 5, 2)\n",
    "fig.add_trace(trace11, 5, 3)\n",
    "# for channel, color in enumerate(['red', 'green', 'blue']):\n",
    "#     fig.add_trace(go.Histogram(x=img[..., channel].ravel(), opacity=0.5,\n",
    "#                                marker_color=color, name='%s channel' %color), 1, 2)\n",
    "fig.update_layout(title=\"Actual point:\", autosize=False,\n",
    "                  width=1000, height=1000,\n",
    "                  margin=dict(l=65, r=50, b=65, t=200),\n",
    "                  scene = dict(\n",
    "                    xaxis_title='Reduced weight x',\n",
    "                    yaxis_title='Reduced weight y',\n",
    "                    zaxis_title='loss'),\n",
    "                 )\n",
    "\n",
    "\n",
    "f1 = go.FigureWidget(fig)\n",
    "\n",
    "def update_point(trace, points, selector):\n",
    "    x,y = points.point_inds[0]\n",
    "    img1 = create_img(Kernel_plot[x][y])\n",
    "    img2 = create_img(Feature_plot1[x][y][0][0])\n",
    "    img3 = create_img(Feature_plot1[x][y][1][0])\n",
    "    img4 = create_img(Feature_plot2[x][y][0][0])\n",
    "    img5 = create_img(Feature_plot2[x][y][1][0])\n",
    "    img6 = create_img2(Feature_plot3[x][y][0])\n",
    "    img7 = create_img2(Feature_plot3[x][y][1])\n",
    "    with fig.batch_update():\n",
    "        f1.data[5].z = img1\n",
    "        f1.data[6].z = img2\n",
    "        f1.data[7].z = img3\n",
    "        f1.data[8].z = img4\n",
    "        f1.data[9].z = img5\n",
    "        f1.data[10].z = img6\n",
    "        f1.data[11].z = img7\n",
    "        f1.update_layout(title=\"Actual point: ({0},{1})\".format(x,y))\n",
    "        \n",
    "#to_change = f.data[0]\n",
    "f1.data[0].on_click(update_point)\n",
    "#fig.data[1].on_click(update_point)\n",
    "\n",
    "f1"
   ]
  },
  {
   "cell_type": "code",
   "execution_count": 245,
   "id": "7f436ec5",
   "metadata": {
    "scrolled": false
   },
   "outputs": [
    {
     "data": {
      "application/vnd.jupyter.widget-view+json": {
       "model_id": "c58635b04fb7443abead309ad1eede3e",
       "version_major": 2,
       "version_minor": 0
      },
      "text/plain": [
       "FigureWidget({\n",
       "    'data': [{'type': 'surface',\n",
       "              'uid': '44c41e01-edee-4dbc-bf1b-fbdafe6539e0',\n",
       " …"
      ]
     },
     "metadata": {},
     "output_type": "display_data"
    }
   ],
   "source": [
    "# Graf pre inicializáciu\n",
    "\n",
    "fig = make_subplots(\n",
    "    rows=1, cols=1,\n",
    "#     rows=1, cols=2,\n",
    "    column_widths=[1],\n",
    "    row_heights=[1],\n",
    "    specs=[[{\"type\": \"surface\"}]])\n",
    "#     specs=[[{\"type\": \"surface\"}, {\"type\": \"image\"}]])\n",
    "\n",
    "\n",
    "trace0 = go.Surface(z=Z_plot, x=X_plot, y=Y_plot)\n",
    "trace1,trace2 = Path_to_trace(Study_path,new_model,Weights_to_point_model)\n",
    "\n",
    "    \n",
    "# We use go.Image because subplots require traces, whereas px functions return a figure\n",
    "go.Surface(z=Z_plot, x=X_plot, y=Y_plot)\n",
    "trace3 = go.Image(z=gray_three_channel,colormodel='rgb')\n",
    "\n",
    "fig.add_trace(trace0)\n",
    "fig.add_trace(trace1)\n",
    "fig.add_trace(trace2)\n",
    "\n",
    "fig.update_layout(title=\"Actual point:\", autosize=False,\n",
    "                  width=1000, height=1000,\n",
    "                  margin=dict(l=65, r=50, b=65, t=200),\n",
    "                  scene = dict(\n",
    "                    xaxis_title='Reduced weight x',\n",
    "                    yaxis_title='Reduced weight y',\n",
    "                    zaxis_title='loss'),\n",
    "                 )\n",
    "\n",
    "\n",
    "f = go.FigureWidget(fig)\n",
    "\n",
    "def update_point(trace, points, selector):\n",
    "    x,y = points.point_inds[0]\n",
    "    path,model = point_to_path(x,y,Point_to_weights_model)\n",
    "    trace3,trace4 = Path_to_trace(path,model,Weights_to_point_model)\n",
    "    with fig.batch_update():\n",
    "        f.data[1].x = trace3.x\n",
    "        f.data[1].y = trace3.y\n",
    "        f.data[1].z = trace3.z\n",
    "        f.data[2].x = trace4.x\n",
    "        f.data[2].y = trace4.y\n",
    "        f.data[2].z = trace4.z\n",
    "       # fig.add_trace(trace4)\n",
    "#     img = Kernel_plot[x][y]\n",
    "#     img = img - np.min(img)\n",
    "#     img = img / np.max(img)\n",
    "#     img = img * 255\n",
    "#     img = np.array([img,img,img])\n",
    "#     img = np.swapaxes(img,0,2)\n",
    "#     with fig.batch_update():\n",
    "#         f.data[3].z = img\n",
    "#         f.update_layout(title=\"Actual point: ({0},{1})\".format(x,y))\n",
    "        \n",
    "\n",
    "f.data[0].on_click(update_point)\n",
    "\n",
    "f"
   ]
  },
  {
   "cell_type": "code",
   "execution_count": 246,
   "id": "af731184",
   "metadata": {},
   "outputs": [
    {
     "data": {
      "image/png": "[encoded data removed]",
      "text/plain": [
       "<Figure size 864x720 with 2 Axes>"
      ]
     },
     "metadata": {
      "needs_background": "light"
     },
     "output_type": "display_data"
    }
   ],
   "source": [
    "fig = plt.figure(figsize = (12,10))\n",
    "ax = plt.axes(projection='3d')\n",
    "\n",
    "surf = ax.plot_surface(X_plot, Y_plot, Z_plot, cmap = plt.cm.cividis)\n",
    "\n",
    "# Set axes label\n",
    "ax.set_xlabel('x', labelpad=20)\n",
    "ax.set_ylabel('y', labelpad=20)\n",
    "ax.set_zlabel('z', labelpad=20)\n",
    "\n",
    "fig.colorbar(surf, shrink=0.5, aspect=8)\n",
    "ax.view_init(10,150)\n",
    "plt.show()\n"
   ]
  },
  {
   "cell_type": "code",
   "execution_count": null,
   "id": "b0fdf9b8",
   "metadata": {},
   "outputs": [],
   "source": []
  },
  {
   "cell_type": "code",
   "execution_count": null,
   "id": "c3dae185",
   "metadata": {},
   "outputs": [],
   "source": []
  }
 ],
 "metadata": {
  "kernelspec": {
   "display_name": "Python 3 (ipykernel)",
   "language": "python",
   "name": "python3"
  },
  "language_info": {
   "codemirror_mode": {
    "name": "ipython",
    "version": 3
   },
   "file_extension": ".py",
   "mimetype": "text/x-python",
   "name": "python",
   "nbconvert_exporter": "python",
   "pygments_lexer": "ipython3",
   "version": "3.9.7"
  }
 },
 "nbformat": 4,
 "nbformat_minor": 5
}
